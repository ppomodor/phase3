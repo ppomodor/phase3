{
  "nbformat": 4,
  "nbformat_minor": 0,
  "metadata": {
    "colab": {
      "name": "similarity_visualization_all",
      "provenance": [],
      "collapsed_sections": [],
      "toc_visible": true
    },
    "kernelspec": {
      "name": "python3",
      "display_name": "Python 3"
    },
    "language_info": {
      "name": "python"
    }
  },
  "cells": [
    {
      "cell_type": "markdown",
      "metadata": {
        "id": "XExMgwUfTZ5W"
      },
      "source": [
        "# Part1. 기본 세팅"
      ]
    },
    {
      "cell_type": "markdown",
      "metadata": {
        "id": "7RGKNXvwUQPe"
      },
      "source": [
        "## 1.FDR install"
      ]
    },
    {
      "cell_type": "code",
      "metadata": {
        "colab": {
          "base_uri": "https://localhost:8080/"
        },
        "id": "p06Kh4JnX502",
        "outputId": "47edfdd4-64ad-45d7-ac02-6a5e8d2cf20a"
      },
      "source": [
        "!pip install -U finance-datareader"
      ],
      "execution_count": null,
      "outputs": [
        {
          "output_type": "stream",
          "name": "stdout",
          "text": [
            "Collecting finance-datareader\n",
            "  Downloading finance_datareader-0.9.31-py3-none-any.whl (17 kB)\n",
            "Requirement already satisfied: tqdm in /usr/local/lib/python3.7/dist-packages (from finance-datareader) (4.62.3)\n",
            "Requirement already satisfied: lxml in /usr/local/lib/python3.7/dist-packages (from finance-datareader) (4.2.6)\n",
            "Requirement already satisfied: pandas>=0.19.2 in /usr/local/lib/python3.7/dist-packages (from finance-datareader) (1.1.5)\n",
            "Requirement already satisfied: requests>=2.3.0 in /usr/local/lib/python3.7/dist-packages (from finance-datareader) (2.23.0)\n",
            "Collecting requests-file\n",
            "  Downloading requests_file-1.5.1-py2.py3-none-any.whl (3.7 kB)\n",
            "Requirement already satisfied: python-dateutil>=2.7.3 in /usr/local/lib/python3.7/dist-packages (from pandas>=0.19.2->finance-datareader) (2.8.2)\n",
            "Requirement already satisfied: pytz>=2017.2 in /usr/local/lib/python3.7/dist-packages (from pandas>=0.19.2->finance-datareader) (2018.9)\n",
            "Requirement already satisfied: numpy>=1.15.4 in /usr/local/lib/python3.7/dist-packages (from pandas>=0.19.2->finance-datareader) (1.19.5)\n",
            "Requirement already satisfied: six>=1.5 in /usr/local/lib/python3.7/dist-packages (from python-dateutil>=2.7.3->pandas>=0.19.2->finance-datareader) (1.15.0)\n",
            "Requirement already satisfied: chardet<4,>=3.0.2 in /usr/local/lib/python3.7/dist-packages (from requests>=2.3.0->finance-datareader) (3.0.4)\n",
            "Requirement already satisfied: urllib3!=1.25.0,!=1.25.1,<1.26,>=1.21.1 in /usr/local/lib/python3.7/dist-packages (from requests>=2.3.0->finance-datareader) (1.24.3)\n",
            "Requirement already satisfied: certifi>=2017.4.17 in /usr/local/lib/python3.7/dist-packages (from requests>=2.3.0->finance-datareader) (2021.5.30)\n",
            "Requirement already satisfied: idna<3,>=2.5 in /usr/local/lib/python3.7/dist-packages (from requests>=2.3.0->finance-datareader) (2.10)\n",
            "Installing collected packages: requests-file, finance-datareader\n",
            "Successfully installed finance-datareader-0.9.31 requests-file-1.5.1\n"
          ]
        }
      ]
    },
    {
      "cell_type": "markdown",
      "metadata": {
        "id": "bW_qRlUmUVyj"
      },
      "source": [
        "## 2.import library"
      ]
    },
    {
      "cell_type": "code",
      "metadata": {
        "id": "5lu6_k3tYX9p"
      },
      "source": [
        "#라이브러리 import\n",
        "import pandas as pd\n",
        "import FinanceDataReader as fdr\n",
        "import numpy as np\n",
        "from itertools import combinations"
      ],
      "execution_count": null,
      "outputs": []
    },
    {
      "cell_type": "markdown",
      "metadata": {
        "id": "DW7rS5kkUdhi"
      },
      "source": [
        "# Part2. 파일 세팅"
      ]
    },
    {
      "cell_type": "markdown",
      "metadata": {
        "id": "4X3ByePDWCXk"
      },
      "source": [
        "## 1.Stock info"
      ]
    },
    {
      "cell_type": "code",
      "metadata": {
        "id": "W8nthfiOZzJM"
      },
      "source": [
        "\n",
        "stock_moon = {\n",
        "    '우리들휴브레인': '118000',\n",
        "    '바른손': '018700',\n",
        "    '신일산업': '002700',\n",
        "    'DSR제강': '069730',\n",
        "    'DSR': '155660'}"
      ],
      "execution_count": null,
      "outputs": []
    },
    {
      "cell_type": "markdown",
      "metadata": {
        "id": "La-jEYr8aFeb"
      },
      "source": [
        "## 2.Def"
      ]
    },
    {
      "cell_type": "code",
      "metadata": {
        "id": "CQegu3PFaKTP"
      },
      "source": [
        "#피어슨 유사도 함수 만들기\n",
        "def pearson_similarity(a, b):\n",
        "    return np.dot((a - np.mean(a)), (b - np.mean(b))) / ((np.linalg.norm(a - np.mean(a))) * (np.linalg.norm(b - np.mean(b))))"
      ],
      "execution_count": null,
      "outputs": []
    },
    {
      "cell_type": "markdown",
      "metadata": {
        "id": "MZ1eWUmBXt4j"
      },
      "source": [
        "# Part3. 통계 분석"
      ]
    },
    {
      "cell_type": "markdown",
      "metadata": {
        "id": "dfV76U1bX1Qe"
      },
      "source": [
        "## 1.데이터 쌓기"
      ]
    },
    {
      "cell_type": "code",
      "metadata": {
        "id": "J-RLuBvVaonC"
      },
      "source": [
        "# 선거전  2016.07.10 ~ 2017.03.09\n",
        "moon_list = []\n",
        "for item_code in stock_moon.values():\n",
        "  close= fdr.DataReader(item_code, \"2016-07-10\", \"2017-03-09\")['Close']\n",
        "  moon_list.append(close)\n",
        "\n",
        "moon_tuple = list(combinations(moon_list,2))\n",
        "\n",
        "moon_si_list = []\n",
        "\n",
        "for x in moon_tuple:\n",
        "  b,c = x\n",
        "  moon_sim = pearson_similarity(b,c)\n",
        "  moon_si_list.append(moon_sim)\n",
        "\n",
        "moon = pd.DataFrame(moon_si_list)"
      ],
      "execution_count": null,
      "outputs": []
    },
    {
      "cell_type": "code",
      "metadata": {
        "id": "-PuAeabpjXzO"
      },
      "source": [
        "# 선거기간 2017.03.10 ~ 2017.05.09\n",
        "moon2_list = []\n",
        "for item_code in stock_moon.values():\n",
        "  close= fdr.DataReader(item_code, \"2017-03-10\", \"2017-05-09\")['Close']\n",
        "  moon2_list.append(close)\n",
        "\n",
        "moon2_tuple = list(combinations(moon2_list,2))\n",
        "\n",
        "moon2_si_list = []\n",
        "\n",
        "for x in moon2_tuple:\n",
        "  b,c = x\n",
        "  moon2_sim = pearson_similarity(b,c)\n",
        "  moon2_si_list.append(moon2_sim)\n",
        "\n",
        "moon2 = pd.DataFrame(moon2_si_list)"
      ],
      "execution_count": null,
      "outputs": []
    },
    {
      "cell_type": "code",
      "metadata": {
        "id": "L0ahz-rRjk1e"
      },
      "source": [
        "# 재임기간: 2017.03.10 ~ 2017.05.09\n",
        "moon3_list = []\n",
        "for item_code in stock_moon.values():\n",
        "  close= fdr.DataReader(item_code, \"2017-05-10\", \"2021-10-01\")['Close']\n",
        "  moon3_list.append(close)\n",
        "\n",
        "moon3_tuple = list(combinations(moon3_list,2))\n",
        "\n",
        "moon3_si_list = []\n",
        "\n",
        "for x in moon3_tuple:\n",
        "  b,c = x\n",
        "  moon3_sim = pearson_similarity(b,c)\n",
        "  moon3_si_list.append(moon3_sim)\n",
        "\n",
        "moon3 = pd.DataFrame(moon3_si_list)"
      ],
      "execution_count": null,
      "outputs": []
    },
    {
      "cell_type": "code",
      "metadata": {
        "id": "IVxz4k1BxhvN"
      },
      "source": [
        "# 재임기간: 2017.03.10 ~ 2017.05.09\n",
        "moon3_list = []\n",
        "for item_code in stock_moon.values():\n",
        "  close= fdr.DataReader(item_code, \"2017-05-10\", \"2021-10-01\")['Close']\n",
        "  moon3_list.append(close)\n",
        "\n",
        "moon3_tuple = list(combinations(moon3_list,2))\n",
        "\n",
        "moon3_si_list = []\n",
        "\n",
        "for x in moon3_tuple:\n",
        "  b,c = x\n",
        "  moon3_sim = pearson_similarity(b,c)\n",
        "  moon3_si_list.append(moon3_sim)\n",
        "\n",
        "moon3 = pd.DataFrame(moon3_si_list)"
      ],
      "execution_count": null,
      "outputs": []
    },
    {
      "cell_type": "markdown",
      "metadata": {
        "id": "aeRRa5Coc4Rp"
      },
      "source": [
        "## 2.Table concat"
      ]
    },
    {
      "cell_type": "code",
      "metadata": {
        "colab": {
          "base_uri": "https://localhost:8080/"
        },
        "id": "IyLK3D-odO32",
        "outputId": "19068129-d494-4590-d154-57b1890870e0"
      },
      "source": [
        "jaein19 = pd.concat([moon,moon2,moon3], axis=1)\n",
        "print(jaein19)"
      ],
      "execution_count": null,
      "outputs": [
        {
          "output_type": "stream",
          "name": "stdout",
          "text": [
            "          0         0         0\n",
            "0  0.900750  0.844879  0.225492\n",
            "1  0.002722  0.014608 -0.137646\n",
            "2  0.268426  0.867423 -0.122733\n",
            "3  0.253378  0.918174 -0.109060\n",
            "4  0.084679 -0.310581  0.097592\n",
            "5  0.486584  0.895557  0.369671\n",
            "6  0.472963  0.833962  0.414135\n",
            "7  0.118107 -0.201668  0.220779\n",
            "8  0.210373 -0.173329  0.300381\n",
            "9  0.945676  0.936159  0.908094\n"
          ]
        }
      ]
    },
    {
      "cell_type": "markdown",
      "metadata": {
        "id": "0faXMiThWPyK"
      },
      "source": [
        "## 3.CSV로 내보내기"
      ]
    },
    {
      "cell_type": "code",
      "metadata": {
        "id": "618z6J9rm1Vv"
      },
      "source": [
        "jaein19.to_csv('jaein19.csv')"
      ],
      "execution_count": null,
      "outputs": []
    },
    {
      "cell_type": "markdown",
      "metadata": {
        "id": "9ntea0SAWW1t"
      },
      "source": [
        "# Part3. 후보별 딕셔너리 모음"
      ]
    },
    {
      "cell_type": "markdown",
      "metadata": {
        "id": "s9uuqAJtWlTm"
      },
      "source": [
        "## 1.후보별 테마주 딕셔너리\n",
        "\n",
        "* 17_lee_dict = {\n",
        "    '삼호개발': '010960',\n",
        "    '이화공영': '001840',\n",
        "    '홈센타홀딩스': '060560',\n",
        "    '특수건설': '026150',\n",
        "    '동신건설': '025950'}\n",
        "\n",
        "\n",
        "* 17_jeong_dict = {\n",
        "    '세명전기':'017510',\n",
        "    '코마스인':'045390',\n",
        "    '미주레일':'078940',\n",
        "    '케이아이씨':'007460'\n",
        "    '일경': '008540'}\n",
        "\n",
        "\n",
        "* 18_park_dict = {\n",
        "    'EG':'037370',\n",
        "    '비트컴퓨터':'032850',\n",
        "    '대유플러스':'000300',\n",
        "    '대유에이텍':'002880',\n",
        "    '서한':'011370'}\n",
        "\n",
        "\n",
        "* 18_moon_dict = {\n",
        "    '우리들휴브레인': '118000',\n",
        "    '바른손': '018700',\n",
        "    '조광페인트': '004910',\n",
        "    '유성티엔에스': '024800',\n",
        "    '신일산업': '002700'}\n",
        "\n",
        "\n",
        "* 19_moon_dict = {\n",
        "    '우리들휴브레인': '118000',\n",
        "    '바른손': '018700',\n",
        "    '신일산업': '002700',\n",
        "    'DSR제강': '069730',\n",
        "    'DSR': '155660'}\n",
        "\n",
        "\n",
        "* 19_hong_dict= {\n",
        "    '한국선재': '025550',\n",
        "    '영화금속' : '012280',\n",
        "    '동방선기' :'099410',\n",
        "    '두올' : '016740',\n",
        "    '세우글로벌': '013000'}\n"
      ]
    },
    {
      "cell_type": "markdown",
      "metadata": {
        "id": "F0PXnCXjYvwY"
      },
      "source": [
        "## 2.후보별 기간 정리\n",
        "\n",
        "* 17대\n",
        "> * ['2006-08-20' :'2007-04-22']\n",
        "> * ['2007-04-23':'2007-12-20']\n",
        "> * ['2007-12-21':'2013-02-23']\n",
        "\n",
        "* 18대\n",
        "> * ['2011-08-22' :'2012-04-22']\n",
        "> * ['2012-04-23':'2012-12-19']\n",
        "> * ['2012-12-20':'2017-03-10']\n",
        "\n",
        "* 19대\n",
        "> * ['2016-07-10' :'2017-03-09']\n",
        "> * ['2017-03-10':'2017-05-09']\n",
        "> * ['2017-05-10':'2017-10-01']"
      ]
    },
    {
      "cell_type": "code",
      "metadata": {
        "id": "_zUSYou06Fkz"
      },
      "source": [
        ""
      ],
      "execution_count": null,
      "outputs": []
    }
  ]
}